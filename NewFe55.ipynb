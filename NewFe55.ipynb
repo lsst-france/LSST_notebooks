{
 "metadata": {
  "name": "",
  "signature": "sha256:8035a52466b798bad57e71a57cd2f0969fd7106550f9c4e47cad694824e09fe2"
 },
 "nbformat": 3,
 "nbformat_minor": 0,
 "worksheets": [
  {
   "cells": [
    {
     "cell_type": "markdown",
     "metadata": {},
     "source": [
      "Fe55 analyse python notebook based on the exemple founded here\n",
      "https://confluence.slac.stanford.edu/display/LSSTCAM/eotest+User+Manual\n",
      "I have modified the program to skip the intermediate fits file\n",
      "and adapted for GE batch system (CCIN2P3 soumission jobs batches)\n",
      "only a the python program is sumitted \n",
      "ipython nbconvert --to python NewFe55.ipynb\n",
      "Olivier Dadoun dadoun@in2p3.fr March 2015"
     ]
    },
    {
     "cell_type": "code",
     "collapsed": false,
     "input": [
      "# this is definition for CCIN2P3 GE batch system\n",
      "# to avoid display problem\n",
      "import os\n",
      "if (os.getenv(\"ENVIRONMENT\").find(\"BATCH\")>=0):\n",
      "    matplotlib.use('Agg')\n",
      "    import matplotlib.pyplot as plt\n",
      "    plt.ioff()\n",
      "    print \"Batch session loaded\""
     ],
     "language": "python",
     "metadata": {},
     "outputs": [],
     "prompt_number": 31
    },
    {
     "cell_type": "code",
     "collapsed": false,
     "input": [
      "import glob\n",
      " \n",
      "import numpy as np\n",
      "import pyfits\n",
      "import pylab\n",
      " \n",
      "import lsst.eotest.sensor as sensorTest\n",
      "import lsst.eotest.image_utils as imutils\n",
      " \n",
      "%matplotlib inline\n",
      "\n",
      "files = sorted(glob.glob('/var/tmp/test/*fe55_fe55*.fits'))\n",
      "\n",
      "#amps = imutils.allAmps\n",
      "amps = (1,2 )     # just do the first segment in each file\n",
      "#\n",
      "# The PsfGaussFit class processes image segments, fitting the charge\n",
      "# clusters with 2D Gaussian functions.  The source detection threshold\n",
      "# is give by nsig*sigma, where sigma is the stdev of the bias region.\n",
      "#\n",
      "fitter = sensorTest.PsfGaussFit(nsig=2)\n",
      "#\n",
      "# Loop over the input files, accumulating the fit data, segment by segment.\n",
      "#\n",
      "store_results = []\n",
      "for item in files:\n",
      "    print \"processing\", os.path.basename(item)\n",
      "    #\n",
      "    # MaskedCCD is the principal data structure for the eotest package.\n",
      "    # Masks can be specified by a non-empty tuple of mask_files.\n",
      "    # \n",
      "    ccd = sensorTest.MaskedCCD(item, mask_files=())\n",
      "    for amp in amps:\n",
      "        print \"  amp:\", amp\n",
      "        fitter.process_image(ccd, amp)\n",
      "        store_results.append(fitter.results())\n",
      "#\n",
      "# Perform direct fit of DN distribution to determine the system gain\n",
      "#\n",
      "for amp in amps:\n",
      "    chiprob = np.array(store_results[amp-1]['chiprob'], dtype=np.float)\n",
      "    dn = np.array(store_results[amp-1]['dn'], dtype=np.float)\n",
      "    #\n",
      "    # apply a chi-square probability threshold\n",
      "    #\n",
      "    index = np.where(chiprob > 0.1)\n",
      "    gain = sensorTest.fe55_gain_fitter(dn[index], make_plot=True,\n",
      "                                       title='fitted DN distribution',ylog=False)\n",
      "    pylab.savefig('example_dn_distribution.png')"
     ],
     "language": "python",
     "metadata": {},
     "outputs": [
      {
       "output_type": "stream",
       "stream": "stdout",
       "text": [
        "processing 113-03_fe55_fe55_010_lsstsensortest.00_008_20140709223441.fits\n",
        "  amp:"
       ]
      },
      {
       "output_type": "stream",
       "stream": "stdout",
       "text": [
        " 1\n",
        "  amp:"
       ]
      },
      {
       "output_type": "stream",
       "stream": "stdout",
       "text": [
        " 2\n",
        "gain for amplifier 0: (3.2818885389615451, 485.08655339761799, 9.0675941192718206)"
       ]
      },
      {
       "output_type": "stream",
       "stream": "stdout",
       "text": [
        "\n",
        "gain for amplifier 1: (3.2922391694459869, 483.56146624301886, 8.2820846131486725)\n"
       ]
      },
      {
       "metadata": {},
       "output_type": "display_data",
       "text": [
        "<matplotlib.figure.Figure at 0x11834e6d0>"
       ]
      }
     ],
     "prompt_number": 19
    },
    {
     "cell_type": "code",
     "collapsed": false,
     "input": [],
     "language": "python",
     "metadata": {},
     "outputs": []
    }
   ],
   "metadata": {}
  }
 ]
}