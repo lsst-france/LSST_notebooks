{
 "metadata": {
  "name": "",
  "signature": "sha256:cef02136a6603ed11c3cb3a37c4983b568f0d51e9ae4b9782a5ae782acd4791a"
 },
 "nbformat": 3,
 "nbformat_minor": 0,
 "worksheets": [
  {
   "cells": [
    {
     "cell_type": "markdown",
     "metadata": {},
     "source": [
      "Fe55 analyse python notebook based on the exemple founded here\n",
      "https://confluence.slac.stanford.edu/display/LSSTCAM/eotest+User+Manual\n",
      "I have modified the program to skip the intermediate fits file\n",
      "and adapted for GE batch system (CCIN2P3 soumission jobs batches)\n",
      "only a the python program is sumitted \n",
      "ipython nbconvert --to python NewFe55.ipynb\n",
      "Olivier Dadoun dadoun@in2p3.fr March 2015"
     ]
    },
    {
     "cell_type": "code",
     "collapsed": false,
     "input": [
      "# this is definition for CCIN2P3 GE batch system\n",
      "# to avoid display problem\n",
      "import os\n",
      "import matplotlib\n",
      "import sys\n",
      "import glob\n",
      "import numpy as np\n",
      "import pyfits\n",
      "import pylab\n",
      "import lsst.eotest.sensor as sensorTest\n",
      "import lsst.eotest.image_utils as imutils\n",
      "\n",
      "\n",
      "if(len(sys.argv) == 2):\n",
      "    ampli=sys.argv[1]\n",
      "else:\n",
      "    ampli=\"1\"\n",
      "\n",
      "#path_input=\"/sps/lsst/data/dadoun/input/dataFe55/113-03/\"\n",
      "path_input=\"/var/tmp/113-03/\"\n",
      "files = sorted(glob.glob(path_input+\"*.fits\"))\n",
      "\n",
      "#path=\"/afs/in2p3.fr/home/throng/lsst/dadoun/scripts/\"\n",
      "path_output=\"/Users/dadoun/LSST/dataFe55\"\n",
      "output=path_output+\"dn_distribution_\"+ampli+\".pdf\"\n",
      "\n",
      "if (os.getenv(\"ENVIRONMENT\") is not None and globos.getenv(\"ENVIRONMENT\").find(\"BATCH\")>=0):\n",
      "    matplotlib.use('Agg')\n",
      "    import matplotlib.pyplot as plt\n",
      "    plt.ioff()\n",
      "    print \"Batch session loaded\"\n",
      "\n",
      "if (os.getenv(\"ENVIRONMENT\") is not None and os.getenv(\"ENVIRONMENT\").find(\"SEQUENTIAL_BATCH\")>0):\n",
      "    get_ipython().magic(u'matplotlib inline')"
     ],
     "language": "python",
     "metadata": {},
     "outputs": [],
     "prompt_number": 13
    },
    {
     "cell_type": "code",
     "collapsed": false,
     "input": [
      "fitter = sensorTest.PsfGaussFit(nsig=2)\n",
      "#\n",
      "# Loop over the input files, accumulating the fit data, segment by segment.\n",
      "#\n",
      "chi_tot = []\n",
      "dn_tot = []\n",
      "ntuple_flag = True\n",
      "for item in files:\n",
      "    print \"processing\", os.path.basename(item)\n",
      "    #\n",
      "    # MaskedCCD is the principal data structure for the eotest package.\n",
      "    # Masks can be specified by a non-empty tuple of mask_files.\n",
      "    #\n",
      "    ccd = sensorTest.MaskedCCD(item, mask_files=())\n",
      "    print \"----> Amp : \",ampli\n",
      "    #Process a segment and accumulate the fit results\n",
      "    fitter.process_image(ccd, int(ampli))\n",
      "    #\n",
      "    chi_tot=fitter.results()['chiprob']\n",
      "    dn_tot=fitter.results()['dn']\n",
      "\n",
      "#        for val in fitter.results()['chiprob']:\n",
      "#        for val in fitter.results()['dn']:\n",
      "\n",
      "if(ntuple_flag == True):\n",
      "    txt=path_output+\"ntuple\"+ampli+\".txt\"\n",
      "    with open(txt, \"w\") as the_file:\n",
      "        for n,val in enumerate(chi_tot):\n",
      "            the_file.write(\"%.2f %.2f\\n\" % (val,dn_tot[n]))\n",
      "#\n",
      "# Perform direct fit of DN distribution to determine the system gain\n",
      "#\n",
      "chiprob = np.array(chi_tot, dtype=np.float)\n",
      "dn = np.array(dn_tot, dtype=np.float)\n",
      "    #\n",
      "    # apply a chi-square probability threshold\n",
      "    #\n",
      "index = np.where(chiprob > 0.1)\n",
      "gain,kalpha_peak, kalpha_sigma = sensorTest.fe55_gain_fitter(dn[index],make_plot=True,title='fitted DN distribution',ylog=False)\n",
      "pylab.savefig(output)\n",
      "txt=path_output+\"ntuple\"+ampli+\".txt\"\n",
      "\n",
      "with open(txt, \"r+\") as the_file:\n",
      "    the_file.write(\"# Ampli %s -> Kalpha peak %i gain e-/DN %.2f\\n\" % (ampli,kalpha_peak, gain))\n",
      "    #sys.stdout.write(\"# Ampli %s -> Kalpha peak %i gain e-/DN %.2f\\n\" % (ampli,kalpha_peak, gain))\n",
      "for amp in amps:\n",
      "    chiprob = np.array(chi_dict[amp], dtype=np.float)\n",
      "    dn = np.array(dn_dict[amp], dtype=np.float)\n",
      "    #\n",
      "    # apply a chi-square probability threshold\n",
      "    #\n",
      "    index = np.where(chiprob > 0.1)\n",
      "    gain = sensorTest.fe55_gain_fitter(dn[index], make_plot=True,\n",
      "                                       title='fitted DN distribution',ylog=False)\n",
      "    pylab.savefig(output)"
     ],
     "language": "python",
     "metadata": {},
     "outputs": [
      {
       "output_type": "stream",
       "stream": "stdout",
       "text": [
        "processing 113-03_fe55_fe55_005_lsstsensortest.00_000_20140709222117.fits\n",
        "----> Amp : "
       ]
      },
      {
       "output_type": "stream",
       "stream": "stdout",
       "text": [
        " 1\n",
        "processing"
       ]
      },
      {
       "output_type": "stream",
       "stream": "stdout",
       "text": [
        " 113-03_fe55_fe55_005_lsstsensortest.00_001_20140709222137.fits\n",
        "----> Amp : "
       ]
      },
      {
       "output_type": "stream",
       "stream": "stdout",
       "text": [
        " 1\n"
       ]
      },
      {
       "output_type": "stream",
       "stream": "stderr",
       "text": [
        "/Users/dadoun/LSST/code/eotest/0.0.0.7/python/lsst/eotest/pyfitsTools.py:9: PendingDeprecationWarning: The new_table function will be deprecated in a future version.\n",
        "        Use :meth:`FITS_rec.from_columns` to create a new :class:`FITS_rec` data object from the input columns to pass into the constructor for :class:`BinTableHDU` or :class:`TableHDU` instead.\n",
        "  my_table = pyfits.new_table(*args, **kwds)\n"
       ]
      },
      {
       "ename": "KeyboardInterrupt",
       "evalue": "",
       "output_type": "pyerr",
       "traceback": [
        "\u001b[0;31m---------------------------------------------------------------------------\u001b[0m\n\u001b[0;31mKeyboardInterrupt\u001b[0m                         Traceback (most recent call last)",
        "\u001b[0;32m<ipython-input-15-176ee14b269e>\u001b[0m in \u001b[0;36m<module>\u001b[0;34m()\u001b[0m\n\u001b[1;32m     15\u001b[0m     \u001b[0;32mprint\u001b[0m \u001b[0;34m\"----> Amp : \"\u001b[0m\u001b[0;34m,\u001b[0m\u001b[0mampli\u001b[0m\u001b[0;34m\u001b[0m\u001b[0m\n\u001b[1;32m     16\u001b[0m     \u001b[0;31m#Process a segment and accumulate the fit results\u001b[0m\u001b[0;34m\u001b[0m\u001b[0;34m\u001b[0m\u001b[0m\n\u001b[0;32m---> 17\u001b[0;31m     \u001b[0mfitter\u001b[0m\u001b[0;34m.\u001b[0m\u001b[0mprocess_image\u001b[0m\u001b[0;34m(\u001b[0m\u001b[0mccd\u001b[0m\u001b[0;34m,\u001b[0m \u001b[0mint\u001b[0m\u001b[0;34m(\u001b[0m\u001b[0mampli\u001b[0m\u001b[0;34m)\u001b[0m\u001b[0;34m)\u001b[0m\u001b[0;34m\u001b[0m\u001b[0m\n\u001b[0m\u001b[1;32m     18\u001b[0m     \u001b[0;31m#\u001b[0m\u001b[0;34m\u001b[0m\u001b[0;34m\u001b[0m\u001b[0m\n\u001b[1;32m     19\u001b[0m     \u001b[0mchi_tot\u001b[0m\u001b[0;34m=\u001b[0m\u001b[0mfitter\u001b[0m\u001b[0;34m.\u001b[0m\u001b[0mresults\u001b[0m\u001b[0;34m(\u001b[0m\u001b[0;34m)\u001b[0m\u001b[0;34m[\u001b[0m\u001b[0;34m'chiprob'\u001b[0m\u001b[0;34m]\u001b[0m\u001b[0;34m\u001b[0m\u001b[0m\n",
        "\u001b[0;32m/Users/dadoun/LSST/code/eotest/0.0.0.7/python/lsst/eotest/sensor/fe55_psf.pyc\u001b[0m in \u001b[0;36mprocess_image\u001b[0;34m(self, ccd, amp, sigma0, dn0, bg_reg, logger)\u001b[0m\n\u001b[1;32m    151\u001b[0m                     pars, _ = scipy.optimize.curve_fit(psf_func, positions, \n\u001b[1;32m    152\u001b[0m                                                        \u001b[0mzvals\u001b[0m\u001b[0;34m,\u001b[0m \u001b[0mp0\u001b[0m\u001b[0;34m=\u001b[0m\u001b[0mp0\u001b[0m\u001b[0;34m,\u001b[0m\u001b[0;34m\u001b[0m\u001b[0m\n\u001b[0;32m--> 153\u001b[0;31m                                                        sigma=dn_errors)\n\u001b[0m\u001b[1;32m    154\u001b[0m                     \u001b[0msigmax\u001b[0m\u001b[0;34m.\u001b[0m\u001b[0mappend\u001b[0m\u001b[0;34m(\u001b[0m\u001b[0mpars\u001b[0m\u001b[0;34m[\u001b[0m\u001b[0;36m2\u001b[0m\u001b[0;34m]\u001b[0m\u001b[0;34m)\u001b[0m\u001b[0;34m\u001b[0m\u001b[0m\n\u001b[1;32m    155\u001b[0m                     \u001b[0msigmay\u001b[0m\u001b[0;34m.\u001b[0m\u001b[0mappend\u001b[0m\u001b[0;34m(\u001b[0m\u001b[0mpars\u001b[0m\u001b[0;34m[\u001b[0m\u001b[0;36m3\u001b[0m\u001b[0;34m]\u001b[0m\u001b[0;34m)\u001b[0m\u001b[0;34m\u001b[0m\u001b[0m\n",
        "\u001b[0;32m/Users/dadoun/LSST/lsst/DarwinX86/anaconda/1.8.0/lib/python2.7/site-packages/scipy/optimize/minpack.pyc\u001b[0m in \u001b[0;36mcurve_fit\u001b[0;34m(f, xdata, ydata, p0, sigma, **kw)\u001b[0m\n\u001b[1;32m    531\u001b[0m     \u001b[0;31m# Remove full_output from kw, otherwise we're passing it in twice.\u001b[0m\u001b[0;34m\u001b[0m\u001b[0;34m\u001b[0m\u001b[0m\n\u001b[1;32m    532\u001b[0m     \u001b[0mreturn_full\u001b[0m \u001b[0;34m=\u001b[0m \u001b[0mkw\u001b[0m\u001b[0;34m.\u001b[0m\u001b[0mpop\u001b[0m\u001b[0;34m(\u001b[0m\u001b[0;34m'full_output'\u001b[0m\u001b[0;34m,\u001b[0m \u001b[0mFalse\u001b[0m\u001b[0;34m)\u001b[0m\u001b[0;34m\u001b[0m\u001b[0m\n\u001b[0;32m--> 533\u001b[0;31m     \u001b[0mres\u001b[0m \u001b[0;34m=\u001b[0m \u001b[0mleastsq\u001b[0m\u001b[0;34m(\u001b[0m\u001b[0mfunc\u001b[0m\u001b[0;34m,\u001b[0m \u001b[0mp0\u001b[0m\u001b[0;34m,\u001b[0m \u001b[0margs\u001b[0m\u001b[0;34m=\u001b[0m\u001b[0margs\u001b[0m\u001b[0;34m,\u001b[0m \u001b[0mfull_output\u001b[0m\u001b[0;34m=\u001b[0m\u001b[0;36m1\u001b[0m\u001b[0;34m,\u001b[0m \u001b[0;34m**\u001b[0m\u001b[0mkw\u001b[0m\u001b[0;34m)\u001b[0m\u001b[0;34m\u001b[0m\u001b[0m\n\u001b[0m\u001b[1;32m    534\u001b[0m     \u001b[0;34m(\u001b[0m\u001b[0mpopt\u001b[0m\u001b[0;34m,\u001b[0m \u001b[0mpcov\u001b[0m\u001b[0;34m,\u001b[0m \u001b[0minfodict\u001b[0m\u001b[0;34m,\u001b[0m \u001b[0merrmsg\u001b[0m\u001b[0;34m,\u001b[0m \u001b[0mier\u001b[0m\u001b[0;34m)\u001b[0m \u001b[0;34m=\u001b[0m \u001b[0mres\u001b[0m\u001b[0;34m\u001b[0m\u001b[0m\n\u001b[1;32m    535\u001b[0m \u001b[0;34m\u001b[0m\u001b[0m\n",
        "\u001b[0;32m/Users/dadoun/LSST/lsst/DarwinX86/anaconda/1.8.0/lib/python2.7/site-packages/scipy/optimize/minpack.pyc\u001b[0m in \u001b[0;36mleastsq\u001b[0;34m(func, x0, args, Dfun, full_output, col_deriv, ftol, xtol, gtol, maxfev, epsfcn, factor, diag)\u001b[0m\n\u001b[1;32m    376\u001b[0m             \u001b[0mmaxfev\u001b[0m \u001b[0;34m=\u001b[0m \u001b[0;36m200\u001b[0m\u001b[0;34m*\u001b[0m\u001b[0;34m(\u001b[0m\u001b[0mn\u001b[0m \u001b[0;34m+\u001b[0m \u001b[0;36m1\u001b[0m\u001b[0;34m)\u001b[0m\u001b[0;34m\u001b[0m\u001b[0m\n\u001b[1;32m    377\u001b[0m         retval = _minpack._lmdif(func, x0, args, full_output, ftol, xtol,\n\u001b[0;32m--> 378\u001b[0;31m                                  gtol, maxfev, epsfcn, factor, diag)\n\u001b[0m\u001b[1;32m    379\u001b[0m     \u001b[0;32melse\u001b[0m\u001b[0;34m:\u001b[0m\u001b[0;34m\u001b[0m\u001b[0m\n\u001b[1;32m    380\u001b[0m         \u001b[0;32mif\u001b[0m \u001b[0mcol_deriv\u001b[0m\u001b[0;34m:\u001b[0m\u001b[0;34m\u001b[0m\u001b[0m\n",
        "\u001b[0;32m/Users/dadoun/LSST/lsst/DarwinX86/anaconda/1.8.0/lib/python2.7/site-packages/scipy/optimize/minpack.pyc\u001b[0m in \u001b[0;36m_weighted_general_function\u001b[0;34m(params, xdata, ydata, function, weights)\u001b[0m\n\u001b[1;32m    446\u001b[0m \u001b[0;34m\u001b[0m\u001b[0m\n\u001b[1;32m    447\u001b[0m \u001b[0;32mdef\u001b[0m \u001b[0m_weighted_general_function\u001b[0m\u001b[0;34m(\u001b[0m\u001b[0mparams\u001b[0m\u001b[0;34m,\u001b[0m \u001b[0mxdata\u001b[0m\u001b[0;34m,\u001b[0m \u001b[0mydata\u001b[0m\u001b[0;34m,\u001b[0m \u001b[0mfunction\u001b[0m\u001b[0;34m,\u001b[0m \u001b[0mweights\u001b[0m\u001b[0;34m)\u001b[0m\u001b[0;34m:\u001b[0m\u001b[0;34m\u001b[0m\u001b[0m\n\u001b[0;32m--> 448\u001b[0;31m     \u001b[0;32mreturn\u001b[0m \u001b[0mweights\u001b[0m \u001b[0;34m*\u001b[0m \u001b[0;34m(\u001b[0m\u001b[0mfunction\u001b[0m\u001b[0;34m(\u001b[0m\u001b[0mxdata\u001b[0m\u001b[0;34m,\u001b[0m \u001b[0;34m*\u001b[0m\u001b[0mparams\u001b[0m\u001b[0;34m)\u001b[0m \u001b[0;34m-\u001b[0m \u001b[0mydata\u001b[0m\u001b[0;34m)\u001b[0m\u001b[0;34m\u001b[0m\u001b[0m\n\u001b[0m\u001b[1;32m    449\u001b[0m \u001b[0;34m\u001b[0m\u001b[0m\n\u001b[1;32m    450\u001b[0m \u001b[0;34m\u001b[0m\u001b[0m\n",
        "\u001b[0;32m/Users/dadoun/LSST/code/eotest/0.0.0.7/python/lsst/eotest/sensor/fe55_psf.pyc\u001b[0m in \u001b[0;36mpsf_func\u001b[0;34m(pos, x0, y0, sigmax, sigmay, DN_tot)\u001b[0m\n\u001b[1;32m     48\u001b[0m     \"\"\"\n\u001b[1;32m     49\u001b[0m     return DN_tot*np.array([pixel_integral(x[0], x[1], x0, y0, \n\u001b[0;32m---> 50\u001b[0;31m                                            sigmax, sigmay) for x in pos])\n\u001b[0m\u001b[1;32m     51\u001b[0m \u001b[0;34m\u001b[0m\u001b[0m\n\u001b[1;32m     52\u001b[0m \u001b[0;32mdef\u001b[0m \u001b[0mchisq\u001b[0m\u001b[0;34m(\u001b[0m\u001b[0mpos\u001b[0m\u001b[0;34m,\u001b[0m \u001b[0mdn\u001b[0m\u001b[0;34m,\u001b[0m \u001b[0mx0\u001b[0m\u001b[0;34m,\u001b[0m \u001b[0my0\u001b[0m\u001b[0;34m,\u001b[0m \u001b[0msigmax\u001b[0m\u001b[0;34m,\u001b[0m \u001b[0msigmay\u001b[0m\u001b[0;34m,\u001b[0m \u001b[0mdn_fit\u001b[0m\u001b[0;34m,\u001b[0m \u001b[0mdn_errors\u001b[0m\u001b[0;34m)\u001b[0m\u001b[0;34m:\u001b[0m\u001b[0;34m\u001b[0m\u001b[0m\n",
        "\u001b[0;32m/Users/dadoun/LSST/code/eotest/0.0.0.7/python/lsst/eotest/sensor/fe55_psf.pyc\u001b[0m in \u001b[0;36mpixel_integral\u001b[0;34m(x, y, x0, y0, sigmax, sigmay)\u001b[0m\n\u001b[1;32m     31\u001b[0m \u001b[0;34m\u001b[0m\u001b[0m\n\u001b[1;32m     32\u001b[0m     \u001b[0mFx\u001b[0m \u001b[0;34m=\u001b[0m \u001b[0;36m0.5\u001b[0m\u001b[0;34m*\u001b[0m\u001b[0;34m(\u001b[0m\u001b[0merf\u001b[0m\u001b[0;34m(\u001b[0m\u001b[0;34m(\u001b[0m\u001b[0mx2\u001b[0m \u001b[0;34m-\u001b[0m \u001b[0mx0\u001b[0m\u001b[0;34m)\u001b[0m\u001b[0;34m/\u001b[0m\u001b[0m_sqrt2\u001b[0m\u001b[0;34m/\u001b[0m\u001b[0msigmax\u001b[0m\u001b[0;34m)\u001b[0m \u001b[0;34m-\u001b[0m \u001b[0merf\u001b[0m\u001b[0;34m(\u001b[0m\u001b[0;34m(\u001b[0m\u001b[0mx1\u001b[0m \u001b[0;34m-\u001b[0m \u001b[0mx0\u001b[0m\u001b[0;34m)\u001b[0m\u001b[0;34m/\u001b[0m\u001b[0m_sqrt2\u001b[0m\u001b[0;34m/\u001b[0m\u001b[0msigmax\u001b[0m\u001b[0;34m)\u001b[0m\u001b[0;34m)\u001b[0m\u001b[0;34m\u001b[0m\u001b[0m\n\u001b[0;32m---> 33\u001b[0;31m     \u001b[0mFy\u001b[0m \u001b[0;34m=\u001b[0m \u001b[0;36m0.5\u001b[0m\u001b[0;34m*\u001b[0m\u001b[0;34m(\u001b[0m\u001b[0merf\u001b[0m\u001b[0;34m(\u001b[0m\u001b[0;34m(\u001b[0m\u001b[0my2\u001b[0m \u001b[0;34m-\u001b[0m \u001b[0my0\u001b[0m\u001b[0;34m)\u001b[0m\u001b[0;34m/\u001b[0m\u001b[0m_sqrt2\u001b[0m\u001b[0;34m/\u001b[0m\u001b[0msigmay\u001b[0m\u001b[0;34m)\u001b[0m \u001b[0;34m-\u001b[0m \u001b[0merf\u001b[0m\u001b[0;34m(\u001b[0m\u001b[0;34m(\u001b[0m\u001b[0my1\u001b[0m \u001b[0;34m-\u001b[0m \u001b[0my0\u001b[0m\u001b[0;34m)\u001b[0m\u001b[0;34m/\u001b[0m\u001b[0m_sqrt2\u001b[0m\u001b[0;34m/\u001b[0m\u001b[0msigmay\u001b[0m\u001b[0;34m)\u001b[0m\u001b[0;34m)\u001b[0m\u001b[0;34m\u001b[0m\u001b[0m\n\u001b[0m\u001b[1;32m     34\u001b[0m \u001b[0;34m\u001b[0m\u001b[0m\n\u001b[1;32m     35\u001b[0m     \u001b[0;32mreturn\u001b[0m \u001b[0mFx\u001b[0m\u001b[0;34m*\u001b[0m\u001b[0mFy\u001b[0m\u001b[0;34m\u001b[0m\u001b[0m\n",
        "\u001b[0;31mKeyboardInterrupt\u001b[0m: "
       ]
      }
     ],
     "prompt_number": 15
    },
    {
     "cell_type": "code",
     "collapsed": false,
     "input": [],
     "language": "python",
     "metadata": {},
     "outputs": []
    }
   ],
   "metadata": {}
  }
 ]
}